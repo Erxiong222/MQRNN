{
  "nbformat": 4,
  "nbformat_minor": 0,
  "metadata": {
    "colab": {
      "name": "MQRNN_test.ipynb",
      "provenance": [],
      "collapsed_sections": [],
      "authorship_tag": "ABX9TyMsO+7GDcTnoHz02W9fSD8J",
      "include_colab_link": true
    },
    "kernelspec": {
      "name": "python3",
      "display_name": "Python 3"
    },
    "accelerator": "GPU"
  },
  "cells": [
    {
      "cell_type": "markdown",
      "metadata": {
        "id": "view-in-github",
        "colab_type": "text"
      },
      "source": [
        "<a href=\"https://colab.research.google.com/github/tianchen101/MQRNN/blob/master/MQRNN_test.ipynb\" target=\"_parent\"><img src=\"https://colab.research.google.com/assets/colab-badge.svg\" alt=\"Open In Colab\"/></a>"
      ]
    },
    {
      "cell_type": "code",
      "metadata": {
        "colab": {
          "base_uri": "https://localhost:8080/"
        },
        "id": "1JVEbXxUDT1n",
        "outputId": "3e6fdc72-73bb-4fb3-c404-4664a1281003"
      },
      "source": [
        "!rm -rf MQRNN/\n",
        "!git clone  https://github.com/tianchen101/MQRNN.git"
      ],
      "execution_count": 15,
      "outputs": [
        {
          "output_type": "stream",
          "text": [
            "Cloning into 'MQRNN'...\n",
            "remote: Enumerating objects: 75, done.\u001b[K\n",
            "remote: Counting objects: 100% (75/75), done.\u001b[K\n",
            "remote: Compressing objects: 100% (49/49), done.\u001b[K\n",
            "remote: Total 75 (delta 34), reused 60 (delta 21), pack-reused 0\u001b[K\n",
            "Unpacking objects: 100% (75/75), done.\n"
          ],
          "name": "stdout"
        }
      ]
    },
    {
      "cell_type": "code",
      "metadata": {
        "id": "ev1KexNADb33"
      },
      "source": [
        "from MQRNN import Encoder\n",
        "from MQRNN import Decoder\n",
        "from MQRNN.MQRNN import MQRNN \n",
        "from MQRNN.data import MQRNN_dataset,read_df"
      ],
      "execution_count": 16,
      "outputs": []
    },
    {
      "cell_type": "code",
      "metadata": {
        "id": "isiMOXnfDz5F"
      },
      "source": [
        "config = {\n",
        "    'horizon_size':40,\n",
        "    'hidden_size':50,\n",
        "    'quantiles': [0.8], \n",
        "    'columns': [1],\n",
        "    'dropout': 0.3,\n",
        "    'layer_size':2,\n",
        "    'by_direction':False,\n",
        "    'lr': 1e-3,\n",
        "    'batch_size': 1,\n",
        "    'num_epochs':500,\n",
        "    'context_size': 10,\n",
        "}"
      ],
      "execution_count": 17,
      "outputs": []
    },
    {
      "cell_type": "code",
      "metadata": {
        "id": "axrMEPuDOct-"
      },
      "source": [
        "import torch\n",
        "device = torch.device('cuda:0' if torch.cuda.is_available() else 'cpu')"
      ],
      "execution_count": 18,
      "outputs": []
    },
    {
      "cell_type": "code",
      "metadata": {
        "id": "K3Pi6Iw9OkRD"
      },
      "source": [
        "train_target_df, test_target_df, train_covariate_df, test_covariate_df = read_df(config)\n",
        "train_target_df = train_target_df.iloc[-500:,:]\n",
        "train_covariate_df = train_covariate_df.iloc[-500:,:]"
      ],
      "execution_count": 19,
      "outputs": []
    },
    {
      "cell_type": "code",
      "metadata": {
        "colab": {
          "base_uri": "https://localhost:8080/",
          "height": 423
        },
        "id": "UHzzo2ZgW5b-",
        "outputId": "e2d9880f-6bad-4b5f-ac40-d33f91b0bd48"
      },
      "source": [
        "train_covariate_df"
      ],
      "execution_count": 20,
      "outputs": [
        {
          "output_type": "execute_result",
          "data": {
            "text/html": [
              "<div>\n",
              "<style scoped>\n",
              "    .dataframe tbody tr th:only-of-type {\n",
              "        vertical-align: middle;\n",
              "    }\n",
              "\n",
              "    .dataframe tbody tr th {\n",
              "        vertical-align: top;\n",
              "    }\n",
              "\n",
              "    .dataframe thead th {\n",
              "        text-align: right;\n",
              "    }\n",
              "</style>\n",
              "<table border=\"1\" class=\"dataframe\">\n",
              "  <thead>\n",
              "    <tr style=\"text-align: right;\">\n",
              "      <th></th>\n",
              "      <th>hour</th>\n",
              "      <th>dayofweek</th>\n",
              "      <th>month</th>\n",
              "    </tr>\n",
              "  </thead>\n",
              "  <tbody>\n",
              "    <tr>\n",
              "      <th>2020-03-06 12:00:00</th>\n",
              "      <td>1.000125</td>\n",
              "      <td>0.499640</td>\n",
              "      <td>-1.015274</td>\n",
              "    </tr>\n",
              "    <tr>\n",
              "      <th>2020-03-07 00:00:00</th>\n",
              "      <td>-0.999875</td>\n",
              "      <td>0.999530</td>\n",
              "      <td>-1.015274</td>\n",
              "    </tr>\n",
              "    <tr>\n",
              "      <th>2020-03-07 12:00:00</th>\n",
              "      <td>1.000125</td>\n",
              "      <td>0.999530</td>\n",
              "      <td>-1.015274</td>\n",
              "    </tr>\n",
              "    <tr>\n",
              "      <th>2020-03-08 00:00:00</th>\n",
              "      <td>-0.999875</td>\n",
              "      <td>1.499420</td>\n",
              "      <td>-1.015274</td>\n",
              "    </tr>\n",
              "    <tr>\n",
              "      <th>2020-03-08 12:00:00</th>\n",
              "      <td>1.000125</td>\n",
              "      <td>1.499420</td>\n",
              "      <td>-1.015274</td>\n",
              "    </tr>\n",
              "    <tr>\n",
              "      <th>...</th>\n",
              "      <td>...</td>\n",
              "      <td>...</td>\n",
              "      <td>...</td>\n",
              "    </tr>\n",
              "    <tr>\n",
              "      <th>2020-11-09 00:00:00</th>\n",
              "      <td>-0.999875</td>\n",
              "      <td>-1.499922</td>\n",
              "      <td>1.318185</td>\n",
              "    </tr>\n",
              "    <tr>\n",
              "      <th>2020-11-09 12:00:00</th>\n",
              "      <td>1.000125</td>\n",
              "      <td>-1.499922</td>\n",
              "      <td>1.318185</td>\n",
              "    </tr>\n",
              "    <tr>\n",
              "      <th>2020-11-10 00:00:00</th>\n",
              "      <td>-0.999875</td>\n",
              "      <td>-1.000031</td>\n",
              "      <td>1.318185</td>\n",
              "    </tr>\n",
              "    <tr>\n",
              "      <th>2020-11-10 12:00:00</th>\n",
              "      <td>1.000125</td>\n",
              "      <td>-1.000031</td>\n",
              "      <td>1.318185</td>\n",
              "    </tr>\n",
              "    <tr>\n",
              "      <th>2020-11-11 00:00:00</th>\n",
              "      <td>-0.999875</td>\n",
              "      <td>-0.500141</td>\n",
              "      <td>1.318185</td>\n",
              "    </tr>\n",
              "  </tbody>\n",
              "</table>\n",
              "<p>500 rows × 3 columns</p>\n",
              "</div>"
            ],
            "text/plain": [
              "                         hour  dayofweek     month\n",
              "2020-03-06 12:00:00  1.000125   0.499640 -1.015274\n",
              "2020-03-07 00:00:00 -0.999875   0.999530 -1.015274\n",
              "2020-03-07 12:00:00  1.000125   0.999530 -1.015274\n",
              "2020-03-08 00:00:00 -0.999875   1.499420 -1.015274\n",
              "2020-03-08 12:00:00  1.000125   1.499420 -1.015274\n",
              "...                       ...        ...       ...\n",
              "2020-11-09 00:00:00 -0.999875  -1.499922  1.318185\n",
              "2020-11-09 12:00:00  1.000125  -1.499922  1.318185\n",
              "2020-11-10 00:00:00 -0.999875  -1.000031  1.318185\n",
              "2020-11-10 12:00:00  1.000125  -1.000031  1.318185\n",
              "2020-11-11 00:00:00 -0.999875  -0.500141  1.318185\n",
              "\n",
              "[500 rows x 3 columns]"
            ]
          },
          "metadata": {
            "tags": []
          },
          "execution_count": 20
        }
      ]
    },
    {
      "cell_type": "code",
      "metadata": {
        "colab": {
          "base_uri": "https://localhost:8080/"
        },
        "id": "gcmQ3nP-WAJK",
        "outputId": "91a9b553-0c6e-4d54-eec0-bfabed5cf187"
      },
      "source": [
        "from MQRNN.data import MQRNN_dataset\n",
        "dset = MQRNN_dataset(train_target_df,train_covariate_df,40,1 )"
      ],
      "execution_count": 21,
      "outputs": [
        {
          "output_type": "stream",
          "text": [
            "self.covariate_df.shape[0] : 500\n",
            "full_covariate shape: (460, 1, 40, 3)\n"
          ],
          "name": "stdout"
        }
      ]
    },
    {
      "cell_type": "code",
      "metadata": {
        "colab": {
          "base_uri": "https://localhost:8080/"
        },
        "id": "F3BcLqmUOfBu",
        "outputId": "5d8e878b-4ff3-48fc-8b4b-7cf3d5403cb6"
      },
      "source": [
        "config['covariate_size'] = train_covariate_df.shape[1]\n",
        "config['device'] = device\n",
        "config "
      ],
      "execution_count": 22,
      "outputs": [
        {
          "output_type": "execute_result",
          "data": {
            "text/plain": [
              "{'batch_size': 1,\n",
              " 'by_direction': False,\n",
              " 'columns': [1],\n",
              " 'context_size': 10,\n",
              " 'covariate_size': 3,\n",
              " 'device': device(type='cuda', index=0),\n",
              " 'dropout': 0.3,\n",
              " 'hidden_size': 50,\n",
              " 'horizon_size': 40,\n",
              " 'layer_size': 2,\n",
              " 'lr': 0.001,\n",
              " 'num_epochs': 500,\n",
              " 'quantiles': [0.8]}"
            ]
          },
          "metadata": {
            "tags": []
          },
          "execution_count": 22
        }
      ]
    },
    {
      "cell_type": "code",
      "metadata": {
        "id": "217OK_S3Ohd_"
      },
      "source": [
        "import torch \n",
        "horizon_size = config['horizon_size']\n",
        "hidden_size = config['hidden_size']\n",
        "quantiles = config['quantiles']\n",
        "quantile_size = len(quantiles)\n",
        "columns = config['columns']\n",
        "dropout = config['dropout']\n",
        "layer_size = config['layer_size']\n",
        "by_direction = config['by_direction']\n",
        "lr = config['lr']\n",
        "batch_size= config['batch_size']\n",
        "num_epochs = config['num_epochs']\n",
        "context_size = config['context_size']\n",
        "covariate_size = config['covariate_size']\n",
        "device = torch.device('cuda:0' if torch.cuda.is_available() else 'cpu')"
      ],
      "execution_count": 23,
      "outputs": []
    },
    {
      "cell_type": "code",
      "metadata": {
        "colab": {
          "base_uri": "https://localhost:8080/"
        },
        "id": "-BhVpomUOzhS",
        "outputId": "e70caeb2-42e2-4faa-9ef2-06581fe81a1c"
      },
      "source": [
        "net = MQRNN(horizon_size,hidden_size,quantiles,columns,dropout,layer_size,by_direction,lr,batch_size,num_epochs,context_size,covariate_size,device)"
      ],
      "execution_count": 24,
      "outputs": [
        {
          "output_type": "stream",
          "text": [
            "device is: cuda:0\n"
          ],
          "name": "stdout"
        }
      ]
    },
    {
      "cell_type": "code",
      "metadata": {
        "colab": {
          "base_uri": "https://localhost:8080/"
        },
        "id": "koN6wZl7O1yG",
        "outputId": "baf810ff-2b99-4d22-e98d-003136f7c4c8"
      },
      "source": [
        "train_dataset = MQRNN_dataset(train_target_df,train_covariate_df,horizon_size,quantile_size)"
      ],
      "execution_count": 25,
      "outputs": [
        {
          "output_type": "stream",
          "text": [
            "self.covariate_df.shape[0] : 500\n",
            "full_covariate shape: (460, 1, 40, 3)\n"
          ],
          "name": "stdout"
        }
      ]
    },
    {
      "cell_type": "code",
      "metadata": {
        "colab": {
          "base_uri": "https://localhost:8080/"
        },
        "id": "daxqFzC_RSfR",
        "outputId": "06ae8196-7b39-4246-f1ec-59383d96a782"
      },
      "source": [
        "net.train(train_dataset)"
      ],
      "execution_count": 26,
      "outputs": [
        {
          "output_type": "stream",
          "text": [
            "epoch_num 5, current loss is: 0.0634191699926404\n",
            "epoch_num 10, current loss is: 0.06051414600317029\n",
            "epoch_num 15, current loss is: 0.0602837745555933\n",
            "epoch_num 20, current loss is: 0.060263295049252714\n",
            "epoch_num 25, current loss is: 0.060254682900249094\n",
            "epoch_num 30, current loss is: 0.06018915679489357\n",
            "epoch_num 35, current loss is: 0.06043555395153986\n",
            "epoch_num 40, current loss is: 0.060789620662081066\n",
            "epoch_num 45, current loss is: 0.060482804892719656\n",
            "epoch_num 50, current loss is: 0.05983023027060688\n",
            "epoch_num 55, current loss is: 0.0600409961645154\n",
            "epoch_num 60, current loss is: 0.060172256248584695\n",
            "epoch_num 65, current loss is: 0.05958402241140172\n",
            "epoch_num 70, current loss is: 0.059442256319350094\n",
            "epoch_num 75, current loss is: 0.05939060288581295\n",
            "epoch_num 80, current loss is: 0.058731294051460596\n",
            "epoch_num 85, current loss is: 0.05750987265766531\n",
            "epoch_num 90, current loss is: 0.0560679542430933\n",
            "epoch_num 95, current loss is: 0.05436063860464787\n",
            "epoch_num 100, current loss is: 0.0543913185009058\n",
            "epoch_num 105, current loss is: 0.049441331946331525\n",
            "epoch_num 110, current loss is: 0.045322194693745044\n",
            "epoch_num 115, current loss is: 0.04400765124611233\n",
            "epoch_num 120, current loss is: 0.04185622889753701\n",
            "epoch_num 125, current loss is: 0.04122913708894149\n",
            "epoch_num 130, current loss is: 0.04043615798328234\n",
            "epoch_num 135, current loss is: 0.03795392342581265\n",
            "epoch_num 140, current loss is: 0.037039241852967635\n",
            "epoch_num 145, current loss is: 0.035146452917568925\n",
            "epoch_num 150, current loss is: 0.03561968579499618\n",
            "epoch_num 155, current loss is: 0.034397459389506904\n",
            "epoch_num 160, current loss is: 0.03216363633888355\n",
            "epoch_num 165, current loss is: 0.03337022780681002\n",
            "epoch_num 170, current loss is: 0.032201959692913555\n",
            "epoch_num 175, current loss is: 0.030113114591957868\n",
            "epoch_num 180, current loss is: 0.02982606287970059\n",
            "epoch_num 185, current loss is: 0.04258003284620202\n",
            "epoch_num 190, current loss is: 0.030435744396154433\n",
            "epoch_num 195, current loss is: 0.026953328708807626\n",
            "epoch_num 200, current loss is: 0.024459644922311754\n",
            "epoch_num 205, current loss is: 0.024072369833787282\n",
            "epoch_num 210, current loss is: 0.026208385547002156\n",
            "epoch_num 215, current loss is: 0.02285914433002472\n",
            "epoch_num 220, current loss is: 0.023960583230723507\n",
            "epoch_num 225, current loss is: 0.02277641356682432\n",
            "epoch_num 230, current loss is: 0.02337689110420752\n",
            "epoch_num 235, current loss is: 0.021255460716244103\n",
            "epoch_num 240, current loss is: 0.020539838404327198\n",
            "epoch_num 245, current loss is: 0.02081186092850091\n",
            "epoch_num 250, current loss is: 0.0203640940638556\n",
            "epoch_num 255, current loss is: 0.021002367266710252\n",
            "epoch_num 260, current loss is: 0.020511070994363313\n",
            "epoch_num 265, current loss is: 0.02024668950619905\n",
            "epoch_num 270, current loss is: 0.020877450787502787\n",
            "epoch_num 275, current loss is: 0.020100775398421977\n",
            "epoch_num 280, current loss is: 0.020118536541427392\n",
            "epoch_num 285, current loss is: 0.019712879000960484\n",
            "epoch_num 290, current loss is: 0.021388314716949842\n",
            "epoch_num 295, current loss is: 0.021352872764718707\n",
            "epoch_num 300, current loss is: 0.01979867568568907\n",
            "epoch_num 305, current loss is: 0.01966413316735323\n",
            "epoch_num 310, current loss is: 0.02008469915130864\n",
            "epoch_num 315, current loss is: 0.019674567373766414\n",
            "epoch_num 320, current loss is: 0.020646895942588648\n",
            "epoch_num 325, current loss is: 0.020962343337959138\n",
            "epoch_num 330, current loss is: 0.020308587996856028\n",
            "epoch_num 335, current loss is: 0.019679034855756637\n",
            "epoch_num 340, current loss is: 0.020723715079786337\n",
            "epoch_num 345, current loss is: 0.01985300705139188\n",
            "epoch_num 350, current loss is: 0.02174502652106078\n",
            "epoch_num 355, current loss is: 0.020100113763325458\n",
            "epoch_num 360, current loss is: 0.01960944198007169\n",
            "epoch_num 365, current loss is: 0.020976183574268784\n",
            "epoch_num 370, current loss is: 0.020025297703950302\n",
            "epoch_num 375, current loss is: 0.01939457948624656\n",
            "epoch_num 380, current loss is: 0.019191857427358627\n",
            "epoch_num 385, current loss is: 0.01940820861875039\n",
            "epoch_num 390, current loss is: 0.019312555579603582\n",
            "epoch_num 395, current loss is: 0.020279759248097738\n",
            "epoch_num 400, current loss is: 0.019579939735864384\n",
            "epoch_num 405, current loss is: 0.018860129933426346\n",
            "epoch_num 410, current loss is: 0.019698346713314885\n",
            "epoch_num 415, current loss is: 0.020230833596077517\n",
            "epoch_num 420, current loss is: 0.01907876353505729\n",
            "epoch_num 425, current loss is: 0.01927591768036718\n",
            "epoch_num 430, current loss is: 0.019165240635042605\n",
            "epoch_num 435, current loss is: 0.019572046821100125\n",
            "epoch_num 440, current loss is: 0.018988450048194414\n",
            "epoch_num 445, current loss is: 0.01930701123631519\n",
            "epoch_num 450, current loss is: 0.019670578341553176\n",
            "epoch_num 455, current loss is: 0.01965133427709773\n",
            "epoch_num 460, current loss is: 0.0198927255137891\n",
            "epoch_num 465, current loss is: 0.019580615873583524\n",
            "epoch_num 470, current loss is: 0.01923843872601814\n",
            "epoch_num 475, current loss is: 0.019432924156735205\n",
            "epoch_num 480, current loss is: 0.019187146927999412\n",
            "epoch_num 485, current loss is: 0.019357025907347922\n",
            "epoch_num 490, current loss is: 0.019449039338291556\n",
            "epoch_num 495, current loss is: 0.019014005836369335\n",
            "epoch_num 500, current loss is: 0.01950058843087459\n",
            "training finished\n"
          ],
          "name": "stdout"
        }
      ]
    },
    {
      "cell_type": "code",
      "metadata": {
        "colab": {
          "base_uri": "https://localhost:8080/"
        },
        "id": "Ht5MAx7qZ2iU",
        "outputId": "5095977b-ca35-4817-cc6d-137c2e7578da"
      },
      "source": [
        "predict_result = net.predict(train_target_df,train_covariate_df,test_covariate_df,1 )\n",
        "predict_result "
      ],
      "execution_count": 28,
      "outputs": [
        {
          "output_type": "stream",
          "text": [
            "input_target_covariate_tensor shape: torch.Size([500, 1, 4])\n",
            "hidden shape: torch.Size([1, 1, 50])\n",
            "next_covariate_tensor: torch.Size([1, 1, 120])\n"
          ],
          "name": "stdout"
        },
        {
          "output_type": "execute_result",
          "data": {
            "text/plain": [
              "{0.8: array([0.        , 0.25059613, 1.07099021, 0.94750033, 0.        ,\n",
              "        0.        , 0.        , 0.        , 0.9037473 , 1.09585524,\n",
              "        0.27523815, 0.        , 0.        , 0.        , 0.65895106,\n",
              "        1.17836503, 0.56863339, 0.        , 0.        , 0.        ,\n",
              "        0.39809395, 1.16698356, 0.8025114 , 0.        , 0.        ,\n",
              "        0.        , 0.10739102, 0.96552972, 1.0626443 , 0.08449909,\n",
              "        0.        , 0.        , 0.        , 0.807638  , 1.12916736,\n",
              "        0.41336053, 0.        , 0.        , 0.        , 0.54139788])}"
            ]
          },
          "metadata": {
            "tags": []
          },
          "execution_count": 28
        }
      ]
    },
    {
      "cell_type": "code",
      "metadata": {
        "id": "cgEg_boEbVqR"
      },
      "source": [
        "test_target_df"
      ],
      "execution_count": null,
      "outputs": []
    },
    {
      "cell_type": "code",
      "metadata": {
        "colab": {
          "base_uri": "https://localhost:8080/",
          "height": 283
        },
        "id": "v1P35lyUbdjh",
        "outputId": "86372a9a-9fac-46c6-a8db-e5a92ebc4d1f"
      },
      "source": [
        "import matplotlib.pyplot as plt\n",
        "plt.plot(predict_result[0.8], color = 'r', label='prediction')\n",
        "plt.plot(test_target_df[1].to_list(), color= 'b', label='real')\n",
        "plt.legend()"
      ],
      "execution_count": 31,
      "outputs": [
        {
          "output_type": "execute_result",
          "data": {
            "text/plain": [
              "<matplotlib.legend.Legend at 0x7f6915430a20>"
            ]
          },
          "metadata": {
            "tags": []
          },
          "execution_count": 31
        },
        {
          "output_type": "display_data",
          "data": {
            "image/png": "[encoded data removed]",
            "text/plain": [
              "<Figure size 432x288 with 1 Axes>"
            ]
          },
          "metadata": {
            "tags": [],
            "needs_background": "light"
          }
        }
      ]
    },
    {
      "cell_type": "code",
      "metadata": {
        "id": "bRmDBS72serN"
      },
      "source": [
        ""
      ],
      "execution_count": null,
      "outputs": []
    }
  ]
}